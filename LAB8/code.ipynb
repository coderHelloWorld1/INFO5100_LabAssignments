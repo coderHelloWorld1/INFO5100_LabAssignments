{
 "cells": [
  {
   "cell_type": "markdown",
   "metadata": {},
   "source": [
    "# 1. IMPORTING NECESSARY LIBRARIES AND MODULES"
   ]
  },
  {
   "cell_type": "code",
   "execution_count": 1,
   "metadata": {},
   "outputs": [],
   "source": [
    "import pandas as pd\n",
    "import numpy as np\n",
    "from sklearn.preprocessing import OneHotEncoder"
   ]
  },
  {
   "cell_type": "markdown",
   "metadata": {},
   "source": [
    "# 2. READING OF THE DATASET (CSV FORMAT)"
   ]
  },
  {
   "cell_type": "code",
   "execution_count": 2,
   "metadata": {},
   "outputs": [],
   "source": [
    "df = pd.read_csv('ds_salaries.csv')"
   ]
  },
  {
   "cell_type": "code",
   "execution_count": 3,
   "metadata": {},
   "outputs": [
    {
     "data": {
      "text/html": [
       "<div>\n",
       "<style scoped>\n",
       "    .dataframe tbody tr th:only-of-type {\n",
       "        vertical-align: middle;\n",
       "    }\n",
       "\n",
       "    .dataframe tbody tr th {\n",
       "        vertical-align: top;\n",
       "    }\n",
       "\n",
       "    .dataframe thead th {\n",
       "        text-align: right;\n",
       "    }\n",
       "</style>\n",
       "<table border=\"1\" class=\"dataframe\">\n",
       "  <thead>\n",
       "    <tr style=\"text-align: right;\">\n",
       "      <th></th>\n",
       "      <th>work_year</th>\n",
       "      <th>experience_level</th>\n",
       "      <th>employment_type</th>\n",
       "      <th>job_title</th>\n",
       "      <th>salary</th>\n",
       "      <th>salary_currency</th>\n",
       "      <th>salary_in_usd</th>\n",
       "      <th>employee_residence</th>\n",
       "      <th>remote_ratio</th>\n",
       "      <th>company_location</th>\n",
       "      <th>company_size</th>\n",
       "    </tr>\n",
       "  </thead>\n",
       "  <tbody>\n",
       "    <tr>\n",
       "      <th>0</th>\n",
       "      <td>2023</td>\n",
       "      <td>SE</td>\n",
       "      <td>FT</td>\n",
       "      <td>Principal Data Scientist</td>\n",
       "      <td>80000</td>\n",
       "      <td>EUR</td>\n",
       "      <td>85847</td>\n",
       "      <td>ES</td>\n",
       "      <td>100</td>\n",
       "      <td>ES</td>\n",
       "      <td>L</td>\n",
       "    </tr>\n",
       "    <tr>\n",
       "      <th>1</th>\n",
       "      <td>2023</td>\n",
       "      <td>MI</td>\n",
       "      <td>CT</td>\n",
       "      <td>ML Engineer</td>\n",
       "      <td>30000</td>\n",
       "      <td>USD</td>\n",
       "      <td>30000</td>\n",
       "      <td>US</td>\n",
       "      <td>100</td>\n",
       "      <td>US</td>\n",
       "      <td>S</td>\n",
       "    </tr>\n",
       "    <tr>\n",
       "      <th>2</th>\n",
       "      <td>2023</td>\n",
       "      <td>MI</td>\n",
       "      <td>CT</td>\n",
       "      <td>ML Engineer</td>\n",
       "      <td>25500</td>\n",
       "      <td>USD</td>\n",
       "      <td>25500</td>\n",
       "      <td>US</td>\n",
       "      <td>100</td>\n",
       "      <td>US</td>\n",
       "      <td>S</td>\n",
       "    </tr>\n",
       "    <tr>\n",
       "      <th>3</th>\n",
       "      <td>2023</td>\n",
       "      <td>SE</td>\n",
       "      <td>FT</td>\n",
       "      <td>Data Scientist</td>\n",
       "      <td>175000</td>\n",
       "      <td>USD</td>\n",
       "      <td>175000</td>\n",
       "      <td>CA</td>\n",
       "      <td>100</td>\n",
       "      <td>CA</td>\n",
       "      <td>M</td>\n",
       "    </tr>\n",
       "    <tr>\n",
       "      <th>4</th>\n",
       "      <td>2023</td>\n",
       "      <td>SE</td>\n",
       "      <td>FT</td>\n",
       "      <td>Data Scientist</td>\n",
       "      <td>120000</td>\n",
       "      <td>USD</td>\n",
       "      <td>120000</td>\n",
       "      <td>CA</td>\n",
       "      <td>100</td>\n",
       "      <td>CA</td>\n",
       "      <td>M</td>\n",
       "    </tr>\n",
       "    <tr>\n",
       "      <th>5</th>\n",
       "      <td>2023</td>\n",
       "      <td>SE</td>\n",
       "      <td>FT</td>\n",
       "      <td>Applied Scientist</td>\n",
       "      <td>222200</td>\n",
       "      <td>USD</td>\n",
       "      <td>222200</td>\n",
       "      <td>US</td>\n",
       "      <td>0</td>\n",
       "      <td>US</td>\n",
       "      <td>L</td>\n",
       "    </tr>\n",
       "    <tr>\n",
       "      <th>6</th>\n",
       "      <td>2023</td>\n",
       "      <td>SE</td>\n",
       "      <td>FT</td>\n",
       "      <td>Applied Scientist</td>\n",
       "      <td>136000</td>\n",
       "      <td>USD</td>\n",
       "      <td>136000</td>\n",
       "      <td>US</td>\n",
       "      <td>0</td>\n",
       "      <td>US</td>\n",
       "      <td>L</td>\n",
       "    </tr>\n",
       "    <tr>\n",
       "      <th>7</th>\n",
       "      <td>2023</td>\n",
       "      <td>SE</td>\n",
       "      <td>FT</td>\n",
       "      <td>Data Scientist</td>\n",
       "      <td>219000</td>\n",
       "      <td>USD</td>\n",
       "      <td>219000</td>\n",
       "      <td>CA</td>\n",
       "      <td>0</td>\n",
       "      <td>CA</td>\n",
       "      <td>M</td>\n",
       "    </tr>\n",
       "    <tr>\n",
       "      <th>8</th>\n",
       "      <td>2023</td>\n",
       "      <td>SE</td>\n",
       "      <td>FT</td>\n",
       "      <td>Data Scientist</td>\n",
       "      <td>141000</td>\n",
       "      <td>USD</td>\n",
       "      <td>141000</td>\n",
       "      <td>CA</td>\n",
       "      <td>0</td>\n",
       "      <td>CA</td>\n",
       "      <td>M</td>\n",
       "    </tr>\n",
       "    <tr>\n",
       "      <th>9</th>\n",
       "      <td>2023</td>\n",
       "      <td>SE</td>\n",
       "      <td>FT</td>\n",
       "      <td>Data Scientist</td>\n",
       "      <td>147100</td>\n",
       "      <td>USD</td>\n",
       "      <td>147100</td>\n",
       "      <td>US</td>\n",
       "      <td>0</td>\n",
       "      <td>US</td>\n",
       "      <td>M</td>\n",
       "    </tr>\n",
       "  </tbody>\n",
       "</table>\n",
       "</div>"
      ],
      "text/plain": [
       "   work_year experience_level employment_type                 job_title  \\\n",
       "0       2023               SE              FT  Principal Data Scientist   \n",
       "1       2023               MI              CT               ML Engineer   \n",
       "2       2023               MI              CT               ML Engineer   \n",
       "3       2023               SE              FT            Data Scientist   \n",
       "4       2023               SE              FT            Data Scientist   \n",
       "5       2023               SE              FT         Applied Scientist   \n",
       "6       2023               SE              FT         Applied Scientist   \n",
       "7       2023               SE              FT            Data Scientist   \n",
       "8       2023               SE              FT            Data Scientist   \n",
       "9       2023               SE              FT            Data Scientist   \n",
       "\n",
       "   salary salary_currency  salary_in_usd employee_residence  remote_ratio  \\\n",
       "0   80000             EUR          85847                 ES           100   \n",
       "1   30000             USD          30000                 US           100   \n",
       "2   25500             USD          25500                 US           100   \n",
       "3  175000             USD         175000                 CA           100   \n",
       "4  120000             USD         120000                 CA           100   \n",
       "5  222200             USD         222200                 US             0   \n",
       "6  136000             USD         136000                 US             0   \n",
       "7  219000             USD         219000                 CA             0   \n",
       "8  141000             USD         141000                 CA             0   \n",
       "9  147100             USD         147100                 US             0   \n",
       "\n",
       "  company_location company_size  \n",
       "0               ES            L  \n",
       "1               US            S  \n",
       "2               US            S  \n",
       "3               CA            M  \n",
       "4               CA            M  \n",
       "5               US            L  \n",
       "6               US            L  \n",
       "7               CA            M  \n",
       "8               CA            M  \n",
       "9               US            M  "
      ]
     },
     "execution_count": 3,
     "metadata": {},
     "output_type": "execute_result"
    }
   ],
   "source": [
    "# Reading first N observation\n",
    "df.head(10)"
   ]
  },
  {
   "cell_type": "markdown",
   "metadata": {},
   "source": [
    "# 3. Basic Data Analysis & DATA TRANSFORMATION"
   ]
  },
  {
   "cell_type": "code",
   "execution_count": null,
   "metadata": {},
   "outputs": [],
   "source": [
    "# Dataset Information -- Number of Columns, Datatypes, etc.\n",
    "df.info() "
   ]
  },
  {
   "cell_type": "code",
   "execution_count": null,
   "metadata": {},
   "outputs": [],
   "source": [
    "# Name of Columns\n",
    "df.columns.to_list()"
   ]
  },
  {
   "cell_type": "code",
   "execution_count": null,
   "metadata": {},
   "outputs": [],
   "source": [
    "#checking for missing values in dataset. \n",
    "df.isnull().sum()"
   ]
  },
  {
   "cell_type": "code",
   "execution_count": null,
   "metadata": {},
   "outputs": [],
   "source": [
    "#checking statistical characteristics for numerical features (without preprocessing)\n",
    "df.describe()"
   ]
  },
  {
   "cell_type": "markdown",
   "metadata": {},
   "source": [
    "## 3.1 TRANSFORMATION. "
   ]
  },
  {
   "cell_type": "code",
   "execution_count": null,
   "metadata": {},
   "outputs": [],
   "source": [
    "df['remote_ratio'] = df['remote_ratio'].replace({\n",
    "    0: 'On site',\n",
    "    50: 'Half remote',\n",
    "    100: 'full remote',\n",
    "})"
   ]
  },
  {
   "cell_type": "code",
   "execution_count": null,
   "metadata": {},
   "outputs": [],
   "source": [
    "df['remote_ratio'] = df['remote_ratio'].replace({\n",
    "    'On site': 0,\n",
    "    'Half remote': 50,\n",
    "    'full remote': 100,\n",
    "})"
   ]
  },
  {
   "cell_type": "code",
   "execution_count": null,
   "metadata": {},
   "outputs": [],
   "source": [
    "encoder = OneHotEncoder()\n",
    "toEncode_workYear = df.copy()\n",
    "feature_to_encode=\"work_year\"\n",
    "df = pd.get_dummies(toEncode_workYear, columns=[feature_to_encode], prefix=[feature_to_encode])"
   ]
  },
  {
   "cell_type": "code",
   "execution_count": null,
   "metadata": {},
   "outputs": [],
   "source": [
    "toEncode_workYear = df.copy()\n",
    "feature_to_encode=\"remote_ratio\"\n",
    "df = pd.get_dummies(toEncode_workYear, columns=[feature_to_encode], prefix=[feature_to_encode])"
   ]
  },
  {
   "cell_type": "code",
   "execution_count": null,
   "metadata": {},
   "outputs": [],
   "source": [
    "df[\"work_year_2020\"]= df[\"work_year_2020\"].astype('int64')\n",
    "df[\"work_year_2021\"]= df[\"work_year_2021\"].astype('int64')\n",
    "df[\"work_year_2022\"]= df[\"work_year_2022\"].astype('int64')\n",
    "df[\"work_year_2023\"]= df[\"work_year_2023\"].astype('int64')\n",
    "df[\"remote_ratio_0\"]= df[\"remote_ratio_0\"].astype('int64')\n",
    "df[\"remote_ratio_50\"]= df[\"remote_ratio_50\"].astype('int64')\n",
    "df[\"remote_ratio_100\"]= df[\"remote_ratio_100\"].astype('int64')"
   ]
  },
  {
   "cell_type": "code",
   "execution_count": null,
   "metadata": {},
   "outputs": [],
   "source": [
    "df['experience_level'] = df['experience_level'].replace({\n",
    "    'SE': 'Senior level',\n",
    "    'EN': 'Entry level',\n",
    "    'EX': 'Excecutive level',\n",
    "    'MI': 'Mid/Intermediete level',\n",
    "})\n",
    "\n",
    "df['company_size'] = df['company_size'].replace({\n",
    "    'S': 'Small',\n",
    "    'M': 'Medium',\n",
    "    'L': 'Large',\n",
    "})"
   ]
  },
  {
   "cell_type": "code",
   "execution_count": null,
   "metadata": {},
   "outputs": [],
   "source": [
    "toEncode_workYear = df.copy()\n",
    "feature_to_encode=\"experience_level\"\n",
    "df = pd.get_dummies(toEncode_workYear, columns=[feature_to_encode], prefix=[feature_to_encode])"
   ]
  },
  {
   "cell_type": "code",
   "execution_count": null,
   "metadata": {},
   "outputs": [],
   "source": [
    "df[\"experience_level_Entry level\"]= df[\"experience_level_Entry level\"].astype('int64')\n",
    "df[\"experience_level_Excecutive level\"]= df[\"experience_level_Excecutive level\"].astype('int64')\n",
    "df[\"experience_level_Mid/Intermediete level\"]= df[\"experience_level_Mid/Intermediete level\"].astype('int64')\n",
    "df[\"experience_level_Senior level\"]= df[\"experience_level_Senior level\"].astype('int64')"
   ]
  },
  {
   "cell_type": "code",
   "execution_count": null,
   "metadata": {},
   "outputs": [],
   "source": [
    "df['company_size'] = df['company_size'].replace({\n",
    "    'S': 'Small',\n",
    "    'M': 'Medium',\n",
    "    'L': 'Large',\n",
    "})"
   ]
  },
  {
   "cell_type": "code",
   "execution_count": null,
   "metadata": {},
   "outputs": [],
   "source": [
    "toEncode_workYear = df.copy()\n",
    "feature_to_encode=\"company_size\"\n",
    "df = pd.get_dummies(toEncode_workYear, columns=[feature_to_encode], prefix=[feature_to_encode])"
   ]
  },
  {
   "cell_type": "code",
   "execution_count": null,
   "metadata": {},
   "outputs": [],
   "source": [
    "df[\"company_size_Large\"]= df[\"company_size_Large\"].astype('int64')\n",
    "df[\"company_size_Medium\"]= df[\"company_size_Medium\"].astype('int64')\n",
    "df[\"company_size_Small\"]= df[\"company_size_Small\"].astype('int64')"
   ]
  },
  {
   "cell_type": "code",
   "execution_count": null,
   "metadata": {},
   "outputs": [],
   "source": [
    "df['employment_type'] = df['employment_type'].replace('FT', 'Full-Time')\n",
    "df['employment_type'] = df['employment_type'].replace('CT', 'Contractor')\n",
    "df['employment_type'] = df['employment_type'].replace('FL', 'Freelancer')\n",
    "df['employment_type'] = df['employment_type'].replace('PT', 'Part-Time')"
   ]
  },
  {
   "cell_type": "code",
   "execution_count": null,
   "metadata": {},
   "outputs": [],
   "source": [
    "toEncode_workYear = df.copy()\n",
    "feature_to_encode=\"employment_type\"\n",
    "df = pd.get_dummies(toEncode_workYear, columns=[feature_to_encode], prefix=[feature_to_encode])"
   ]
  },
  {
   "cell_type": "code",
   "execution_count": null,
   "metadata": {},
   "outputs": [],
   "source": [
    "df[\"employment_type_Full-Time\"]= df[\"employment_type_Full-Time\"].astype('int64')\n",
    "df[\"employment_type_Part-Time\"]= df[\"employment_type_Part-Time\"].astype('int64')\n",
    "df[\"employment_type_Contractor\"]= df[\"employment_type_Contractor\"].astype('int64')\n",
    "df[\"employment_type_Freelancer\"]= df[\"employment_type_Freelancer\"].astype('int64')\n"
   ]
  },
  {
   "cell_type": "code",
   "execution_count": null,
   "metadata": {},
   "outputs": [],
   "source": [
    "country_mapping = {\n",
    "    'US': 'North America',\n",
    "    'GB': 'Europe',\n",
    "    'CA': 'North America',\n",
    "    'ES': 'Europe',\n",
    "    'IN': 'Asia',\n",
    "    'DE': 'Europe',\n",
    "    'FR': 'Europe',\n",
    "    'PT': 'Europe',\n",
    "    'BR': 'South America',\n",
    "    'GR': 'Europe',\n",
    "    'NL': 'Europe',\n",
    "    'AU': 'Oceania',\n",
    "    'MX': 'North America',\n",
    "    'IT': 'Europe',\n",
    "    'PK': 'Asia',\n",
    "    'JP': 'Asia',\n",
    "    'IE': 'Europe',\n",
    "    'NG': 'Africa',\n",
    "    'AT': 'Europe',\n",
    "    'AR': 'South America',\n",
    "    'PL': 'Europe',\n",
    "    'PR': 'North America',\n",
    "    'TR': 'Asia',\n",
    "    'BE': 'Europe',\n",
    "    'SG': 'Asia',\n",
    "    'RU': 'Europe',\n",
    "    'LV': 'Europe',\n",
    "    'UA': 'Europe',\n",
    "    'CO': 'South America',\n",
    "    'CH': 'Europe',\n",
    "    'SI': 'Europe',\n",
    "    'BO': 'South America',\n",
    "    'DK': 'Europe',\n",
    "    'HR': 'Europe',\n",
    "    'HU': 'Europe',\n",
    "    'RO': 'Europe',\n",
    "    'TH': 'Asia',\n",
    "    'AE': 'Asia',\n",
    "    'VN': 'Asia',\n",
    "    'HK': 'Asia',\n",
    "    'UZ': 'Asia',\n",
    "    'PH': 'Asia',\n",
    "    'CF': 'Africa',\n",
    "    'CL': 'South America',\n",
    "    'FI': 'Europe',\n",
    "    'CZ': 'Europe',\n",
    "    'SE': 'Europe',\n",
    "    'AS': 'Oceania',\n",
    "    'LT': 'Europe',\n",
    "    'GH': 'Africa',\n",
    "    'KE': 'Africa',\n",
    "    'DZ': 'Africa',\n",
    "    'NZ': 'Oceania',\n",
    "    'JE': 'Europe',\n",
    "    'MY': 'Asia',\n",
    "    'MD': 'Europe',\n",
    "    'IQ': 'Asia',\n",
    "    'BG': 'Europe',\n",
    "    'LU': 'Europe',\n",
    "    'RS': 'Europe',\n",
    "    'HN': 'North America',\n",
    "    'EE': 'Europe',\n",
    "    'TN': 'Africa',\n",
    "    'CR': 'North America',\n",
    "    'ID': 'Asia',\n",
    "    'EG': 'Africa',\n",
    "    'DO': 'North America',\n",
    "    'CN': 'Asia',\n",
    "    'SK': 'Europe',\n",
    "    'IR': 'Asia',\n",
    "    'MA': 'Africa',\n",
    "    'IL': 'Asia',\n",
    "    'MK': 'Europe',\n",
    "    'BA': 'Europe',\n",
    "    'AM': 'Asia',\n",
    "    'CY': 'Asia',\n",
    "    'KW': 'Asia',\n",
    "    'MT': 'Europe',\n",
    "    'AL': 'Europe',\n",
    "    'BS': 'North America'\n",
    "}\n",
    "\n",
    "country_codes = ['US', 'GB', 'CA', 'ES', 'IN', 'DE', 'FR', 'PT', 'BR', 'GR', 'NL', 'AU',\n",
    "                'MX', 'IT', 'PK', 'JP', 'IE', 'NG', 'AT', 'AR', 'PL', 'PR', 'TR', 'BE',\n",
    "                'SG', 'RU', 'LV', 'UA', 'CO', 'CH', 'SI', 'BO', 'DK', 'HR', 'HU', 'RO',\n",
    "                'TH', 'AE', 'VN', 'HK', 'UZ', 'PH', 'CF', 'CL', 'FI', 'CZ', 'SE', 'AS',\n",
    "                'LT', 'GH', 'KE', 'DZ', 'NZ', 'JE', 'MY', 'MD', 'IQ', 'BG', 'LU', 'RS',\n",
    "                'HN', 'EE', 'TN', 'CR', 'ID', 'EG', 'DO', 'CN', 'SK', 'IR', 'MA', 'IL',\n",
    "                'MK', 'BA', 'AM', 'CY', 'KW', 'MT', 'AL', 'BS']\n",
    "\n",
    "continent_mapping = {country: country_mapping.get(country, 'Unknown') for country in country_codes}"
   ]
  },
  {
   "cell_type": "code",
   "execution_count": null,
   "metadata": {},
   "outputs": [],
   "source": [
    "for i in range(len(df)):\n",
    "    df['employee_residence'][i] = continent_mapping[df['employee_residence'][i]]\n",
    "for i in range(len(df)):\n",
    "    df['company_location'][i] = continent_mapping[df['company_location'][i]]"
   ]
  },
  {
   "cell_type": "code",
   "execution_count": null,
   "metadata": {},
   "outputs": [],
   "source": [
    "for i in range (len(df)):\n",
    "    if df['job_title'][i].split()[0] != \"Head\":\n",
    "        df['job_title'][i] = df['job_title'][i].split()[-1]\n",
    "    elif df['job_title'][i].split()[0] == \"Head\":\n",
    "        df['job_title'][i] = \"Head\""
   ]
  }
 ],
 "metadata": {
  "kernelspec": {
   "display_name": "info6105-env_1",
   "language": "python",
   "name": "python3"
  },
  "language_info": {
   "codemirror_mode": {
    "name": "ipython",
    "version": 3
   },
   "file_extension": ".py",
   "mimetype": "text/x-python",
   "name": "python",
   "nbconvert_exporter": "python",
   "pygments_lexer": "ipython3",
   "version": "3.8.15"
  }
 },
 "nbformat": 4,
 "nbformat_minor": 2
}
